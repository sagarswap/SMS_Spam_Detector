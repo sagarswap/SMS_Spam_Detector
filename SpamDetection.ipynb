{
 "cells": [
  {
   "cell_type": "markdown",
   "metadata": {},
   "source": [
    "Imports"
   ]
  },
  {
   "cell_type": "code",
   "execution_count": 31,
   "metadata": {},
   "outputs": [],
   "source": [
    "from nltk.tokenize import sent_tokenize, word_tokenize, PunktSentenceTokenizer\n",
    "from nltk.corpus import stopwords, state_union\n",
    "from nltk.stem import PorterStemmer\n",
    "import pandas as pd"
   ]
  },
  {
   "cell_type": "code",
   "execution_count": 32,
   "metadata": {},
   "outputs": [
    {
     "name": "stdout",
     "output_type": "stream",
     "text": [
      "['Hello', 'there', ',', 'lets', 'do', 'some', 'python', '!', 'Do', 'you', 'even', 'know', 'NLTK', '?']\n",
      "['Hello there, lets do some python!', 'Do you even know NLTK?']\n",
      "{'been', \"hadn't\", 'the', 'only', \"you'd\", 'd', 'haven', 'at', 'if', 'shan', 'where', 'further', 'then', 're', 'ours', 'doing', \"you're\", 'herself', \"won't\", 'was', 'ourselves', 'she', 'what', 'now', 'doesn', 'my', 'during', 'be', 'very', \"should've\", 'he', \"haven't\", 'needn', 'few', \"it's\", 'below', 'mustn', 'theirs', 'all', 'no', 'yours', \"wouldn't\", 'hers', 'above', 'or', 'it', 'into', 'me', 'from', 'their', \"don't\", 'itself', \"you'll\", 'ma', 'you', 'y', 'but', 'than', 'against', 'do', 'our', \"weren't\", 'who', 'her', 'does', 'has', 'shouldn', 'each', 'them', 'him', 'were', 'after', 'most', 'isn', 'themselves', 'are', 've', 'whom', 'until', 'such', 'yourselves', 'll', 'himself', \"that'll\", 'should', 'wasn', 'over', 'wouldn', 'just', \"isn't\", 'any', 'same', 'they', 'can', 'o', \"mustn't\", 'won', 'of', 'being', 'which', 'myself', 'we', \"mightn't\", 'is', 'other', 'for', 'weren', 'between', 'there', 'why', 's', 'couldn', 'a', 'had', 't', 'hadn', 'his', 'have', 'its', 'i', 'these', 'under', 'because', 'how', 'that', 'before', \"couldn't\", 'here', \"wasn't\", 'up', 'm', 'while', 'your', 'as', \"you've\", 'with', 'through', 'did', \"shouldn't\", 'don', \"didn't\", \"she's\", 'am', 'this', 'and', 'to', 'aren', 'some', 'about', 'more', 'by', 'hasn', 'out', 'again', \"doesn't\", 'on', 'yourself', 'when', 'didn', 'off', 'mightn', 'both', 'too', 'ain', 'in', \"aren't\", 'so', 'down', \"shan't\", 'will', 'an', \"needn't\", 'those', 'own', 'having', 'nor', 'once', \"hasn't\", 'not'}\n",
      "ajns\n",
      "ajnser\n",
      "ajnstion\n",
      "ajns\n"
     ]
    }
   ],
   "source": [
    "text1=\"Hello there, lets do some python! Do you even know NLTK?\"\n",
    "print(word_tokenize(text1, language=\"english\"))\n",
    "print(sent_tokenize(text1))\n",
    "stop_word=set(stopwords.words(\"english\"))\n",
    "print(stop_word)\n",
    "ps=PorterStemmer()\n",
    "words=[\"ajnsing\", \"ajnser\", \"ajnstion\", \"ajnsed\"]\n",
    "for w in words:\n",
    "    print(ps.stem(w))\n",
    "\n",
    "sample_text=state_union.raw(\"2006-GWBush.txt\")\n",
    "train_text=state_union.raw(\"2005-GWBush.txt\")\n",
    "custom_sent_tokenizer=PunktSentenceTokenizer(train_text)\n",
    "tokenized=custom_sent_tokenizer.tokenize(sample_text)"
   ]
  },
  {
   "cell_type": "code",
   "execution_count": 34,
   "metadata": {},
   "outputs": [],
   "source": [
    "def process_content():\n",
    "    try:\n",
    "        for i in tokenized:\n",
    "            words=nltk.word_tokenize(i)\n",
    "            tagged=nltk.pos_tag(words)\n",
    "            print(tagged)\n",
    "    except Exception as e:\n",
    "        print(str(e))\n",
    "process_content()"
   ]
  }
 ],
 "metadata": {
  "kernelspec": {
   "display_name": "Python 3",
   "language": "python",
   "name": "python3"
  },
  "language_info": {
   "codemirror_mode": {
    "name": "ipython",
    "version": 3
   },
   "file_extension": ".py",
   "mimetype": "text/x-python",
   "name": "python",
   "nbconvert_exporter": "python",
   "pygments_lexer": "ipython3",
   "version": "3.10.4"
  },
  "orig_nbformat": 4
 },
 "nbformat": 4,
 "nbformat_minor": 2
}
